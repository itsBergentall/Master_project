{
 "cells": [
  {
   "cell_type": "code",
   "execution_count": 68,
   "id": "motivated-tunisia",
   "metadata": {},
   "outputs": [],
   "source": [
    "import torch_geometric.transforms\n",
    "from torch_geometric.nn import knn_graph\n",
    "import torch_geometric.data\n",
    "import torch \n",
    "from torch_geometric.data import Data\n",
    "from torch_geometric.utils import from_networkx\n",
    "import numpy as np\n",
    "import pickle\n",
    "from torch_geometric.data import DataLoader\n",
    "import linecache\n",
    "import random"
   ]
  },
  {
   "cell_type": "code",
   "execution_count": 69,
   "id": "charitable-corporation",
   "metadata": {},
   "outputs": [
    {
     "name": "stdout",
     "output_type": "stream",
     "text": [
      "100\n"
     ]
    }
   ],
   "source": [
    "pickle_in2 = open(\"defect_matrices/dict.eq_distr\",\"rb\")\n",
    "eq_distr = []\n",
    "while 1:\n",
    "    try:\n",
    "        eq_distr.append(pickle.load(pickle_in2))\n",
    "    except EOFError:\n",
    "        break\n",
    "\n",
    "print(len(eq_distr))"
   ]
  },
  {
   "cell_type": "code",
   "execution_count": 70,
   "id": "intensive-columbia",
   "metadata": {},
   "outputs": [],
   "source": [
    "node_feat_load = np.genfromtxt('defect_matrices/node_features.txt')\n",
    "edge_idx_load = np.genfromtxt('defect_matrices/edgelist.txt',usecols=(0,1))\n",
    "edge_feat_load = np.genfromtxt('defect_matrices/edgelist.txt',dtype = float,usecols=3,comments = '}')\n",
    "graph_info = np.genfromtxt('defect_matrices/graph_info.txt')"
   ]
  },
  {
   "cell_type": "code",
   "execution_count": 78,
   "id": "instructional-moderator",
   "metadata": {},
   "outputs": [],
   "source": [
    "graphs = []\n",
    "\n",
    "#could probably make it more elegant but for now the holder indices works fine i guess :P\n",
    "holder=0\n",
    "edge_holder =0\n",
    "for ix in range(len(graph_info)):\n",
    "    num_nodes = int(graph_info[ix])\n",
    "    edge_amount = int(num_nodes*(num_nodes-1))\n",
    "    \n",
    "    node_feat = node_feat_load[holder:holder+num_nodes]\n",
    "    edge_idx = edge_idx_load[edge_holder:edge_amount+edge_holder]\n",
    "    edge_feat = edge_feat_load[edge_holder:edge_amount+edge_holder]\n",
    "    \n",
    "    node_features = torch.from_numpy(node_feat)\n",
    "    edge_features = torch.from_numpy(edge_feat)\n",
    "    \n",
    "    edge_index = torch.from_numpy(np.transpose(edge_idx)).type(torch.LongTensor)\n",
    "    #edge_index = torch_geometric.utils.to_undirected(edge_index)\n",
    "    \n",
    "    #print(node_features)\n",
    "    #print(edge_index)\n",
    "    #print(edge_features.shape)\n",
    "    \n",
    "    eq_class = np.array(np.around(eq_distr[ix]*0.01))#should change this to float with prec.3 or something\n",
    "    eq_class = torch.from_numpy(eq_class)\n",
    "    \n",
    "    #create of graph one at the time\n",
    "    graph = Data(node_features,edge_index,edge_features,y=eq_class)\n",
    "    \n",
    "    #print(graph)\n",
    "    graphs.append(graph)\n",
    "    \n",
    "    holder = holder + num_nodes\n",
    "    edge_holder = edge_holder + edge_amount\n",
    "\n",
    "\n",
    "    \n",
    "\n",
    "torch.save(graphs,'defect_matrices/torch_test.pt')  \n"
   ]
  },
  {
   "cell_type": "code",
   "execution_count": null,
   "id": "activated-slovak",
   "metadata": {},
   "outputs": [],
   "source": []
  },
  {
   "cell_type": "code",
   "execution_count": null,
   "id": "regulation-darkness",
   "metadata": {},
   "outputs": [],
   "source": []
  },
  {
   "cell_type": "code",
   "execution_count": null,
   "id": "another-latest",
   "metadata": {},
   "outputs": [],
   "source": []
  },
  {
   "cell_type": "code",
   "execution_count": 79,
   "id": "stainless-embassy",
   "metadata": {},
   "outputs": [],
   "source": [
    "dataset = torch.load('defect_matrices/torch_test.pt')\n"
   ]
  },
  {
   "cell_type": "code",
   "execution_count": 80,
   "id": "structured-edgar",
   "metadata": {},
   "outputs": [
    {
     "name": "stdout",
     "output_type": "stream",
     "text": [
      "Number of graphs: 98\n",
      "\n",
      "First graph attributes:\n",
      "Data(edge_attr=[72], edge_index=[2, 72], x=[9, 2], y=[4])\n",
      "=============================================================\n",
      "Number of nodes: 9\n",
      "Number of edges: 72\n",
      "Average node degree: 8.00\n"
     ]
    }
   ],
   "source": [
    "\n",
    "#print()\n",
    "#print(f'Dataset: {dataset}:')\n",
    "#print('====================')\n",
    "print(f'Number of graphs: {len(dataset)}')\n",
    "print()\n",
    "#print(f'Number of features: {dataset.num_features}')\n",
    "#print(f'Number of classes: {dataset.num_classes}')\n",
    "print(f'First graph attributes:')\n",
    "data = dataset[0]  # Get the first graph object.\n",
    "#print()\n",
    "print(data)\n",
    "print('=============================================================')\n",
    "\n",
    "# Gather some statistics about the first graph.\n",
    "print(f'Number of nodes: {data.num_nodes}')\n",
    "print(f'Number of edges: {data.num_edges}')\n",
    "print(f'Average node degree: {data.num_edges / data.num_nodes:.2f}')\n"
   ]
  },
  {
   "cell_type": "code",
   "execution_count": 196,
   "id": "sharp-economics",
   "metadata": {},
   "outputs": [
    {
     "name": "stdout",
     "output_type": "stream",
     "text": [
      "Number of training graphs: 8\n",
      "Number of test graphs: 2\n"
     ]
    }
   ],
   "source": [
    "torch.manual_seed(1234)\n",
    "#dataset = dataset.shuffle()\n",
    "random.shuffle(dataset)\n",
    "\n",
    "train_dataset = dataset[:8]\n",
    "test_dataset = dataset[8:]\n",
    "\n",
    "print(f'Number of training graphs: {len(train_dataset)}')\n",
    "print(f'Number of test graphs: {len(test_dataset)}')\n",
    "\n"
   ]
  },
  {
   "cell_type": "code",
   "execution_count": 198,
   "id": "forbidden-locking",
   "metadata": {},
   "outputs": [
    {
     "name": "stdout",
     "output_type": "stream",
     "text": [
      "Step 1:\n",
      "=======\n",
      "Number of graphs in the current batch: 4\n",
      "Batch(batch=[41], edge_attr=[216], edge_index=[2, 216], x=[41, 2], y=[16])\n",
      "\n",
      "Step 2:\n",
      "=======\n",
      "Number of graphs in the current batch: 4\n",
      "Batch(batch=[27], edge_attr=[81], edge_index=[2, 81], x=[27, 2], y=[16])\n",
      "\n"
     ]
    }
   ],
   "source": [
    "from torch_geometric.data import DataLoader\n",
    "\n",
    "train_loader = DataLoader(train_dataset, batch_size=4, shuffle=True)\n",
    "test_loader = DataLoader(test_dataset, batch_size=2, shuffle=False)\n",
    "\n",
    "for step, data in enumerate(train_loader):\n",
    "    print(f'Step {step + 1}:')\n",
    "    print('=======')\n",
    "    print(f'Number of graphs in the current batch: {data.num_graphs}')\n",
    "    print(data)\n",
    "    print()"
   ]
  },
  {
   "cell_type": "code",
   "execution_count": 240,
   "id": "selective-instruction",
   "metadata": {},
   "outputs": [
    {
     "ename": "NameError",
     "evalue": "name 'batch' is not defined",
     "output_type": "error",
     "traceback": [
      "\u001b[0;31m---------------------------------------------------------------------------\u001b[0m",
      "\u001b[0;31mNameError\u001b[0m                                 Traceback (most recent call last)",
      "\u001b[0;32m<ipython-input-240-0ce79da413e4>\u001b[0m in \u001b[0;36m<module>\u001b[0;34m\u001b[0m\n\u001b[0;32m----> 1\u001b[0;31m \u001b[0mprint\u001b[0m\u001b[0;34m(\u001b[0m\u001b[0mbatch\u001b[0m\u001b[0;34m)\u001b[0m\u001b[0;34m\u001b[0m\u001b[0;34m\u001b[0m\u001b[0m\n\u001b[0m",
      "\u001b[0;31mNameError\u001b[0m: name 'batch' is not defined"
     ]
    }
   ],
   "source": [
    "print(batch)"
   ]
  },
  {
   "cell_type": "code",
   "execution_count": 300,
   "id": "sweet-charles",
   "metadata": {},
   "outputs": [
    {
     "name": "stdout",
     "output_type": "stream",
     "text": [
      "GCN(\n",
      "  (conv1): GCNConv(7, 64)\n",
      "  (conv2): GCNConv(64, 64)\n",
      "  (conv3): GCNConv(64, 64)\n",
      "  (lin): Linear(in_features=64, out_features=2, bias=True)\n",
      ")\n"
     ]
    }
   ],
   "source": [
    "from torch.nn import Linear\n",
    "from torch.nn import Softmax\n",
    "\n",
    "import torch.nn.functional as F\n",
    "from torch_geometric.nn import GCNConv\n",
    "from torch_geometric.nn import global_mean_pool\n",
    "\n",
    "\n",
    "class GCN(torch.nn.Module):\n",
    "    def __init__(self, hidden_channels):\n",
    "        super(GCN, self).__init__()\n",
    "        torch.manual_seed(12345)\n",
    "        self.conv1 = GCNConv(dataset.num_node_features, hidden_channels)\n",
    "        self.conv2 = GCNConv(hidden_channels, hidden_channels)\n",
    "        self.conv3 = GCNConv(hidden_channels, hidden_channels)\n",
    "        self.lin = Linear(hidden_channels, dataset.num_classes)\n",
    "\n",
    "    def forward(self, x, edge_index, batch):\n",
    "        # 1. Obtain node embeddings \n",
    "        print(dataset.num_features)\n",
    "        \n",
    "        x = self.conv1(x, edge_index)\n",
    "        x = x.relu()\n",
    "        x = self.conv2(x, edge_index)\n",
    "        x = x.relu()\n",
    "        x = self.conv3(x, edge_index)\n",
    "\n",
    "        # 2. Readout layer\n",
    "        x = global_mean_pool(x, batch)  # [batch_size, hidden_channels]\n",
    "\n",
    "        # 3. Apply a final classifier\n",
    "        x = F.dropout(x, p=0.5, training=self.training)\n",
    "        print(x.shape)\n",
    "        x = self.lin(x)\n",
    "        \n",
    "        return x\n",
    "\n",
    "model = GCN(hidden_channels=64)\n",
    "print(model)\n",
    "    \n"
   ]
  },
  {
   "cell_type": "code",
   "execution_count": 263,
   "id": "important-client",
   "metadata": {},
   "outputs": [
    {
     "name": "stdout",
     "output_type": "stream",
     "text": [
      "torch.Size([5, 10])\n",
      "tensor([3, 1, 0, 1, 0])\n"
     ]
    }
   ],
   "source": [
    "output = torch.randn(5,10)\n",
    "target = torch.randint(0,4,(5,))\n",
    "\n",
    "print(output.shape)\n",
    "print(target)\n"
   ]
  },
  {
   "cell_type": "code",
   "execution_count": 296,
   "id": "connected-zambia",
   "metadata": {},
   "outputs": [
    {
     "name": "stdout",
     "output_type": "stream",
     "text": [
      "torch.Size([17, 2])\n",
      "tensor([1])\n"
     ]
    }
   ],
   "source": [
    "print(out.shape)\n",
    "print(data.y)"
   ]
  },
  {
   "cell_type": "code",
   "execution_count": 301,
   "id": "guided-possession",
   "metadata": {},
   "outputs": [
    {
     "name": "stdout",
     "output_type": "stream",
     "text": [
      "7\n",
      "torch.Size([64, 64])\n",
      "torch.Size([64, 2])\n",
      "7\n",
      "torch.Size([64, 64])\n",
      "torch.Size([64, 2])\n",
      "7\n",
      "torch.Size([22, 64])\n",
      "torch.Size([22, 2])\n",
      "7\n",
      "torch.Size([64, 64])\n",
      "7\n",
      "torch.Size([64, 64])\n",
      "7\n",
      "torch.Size([22, 64])\n",
      "7\n",
      "torch.Size([38, 64])\n",
      "Epoch: 001, Train Acc: 0.6467, Test Acc: 0.7368\n"
     ]
    }
   ],
   "source": [
    "model = GCN(hidden_channels=64)\n",
    "optimizer = torch.optim.Adam(model.parameters(), lr=0.01)\n",
    "criterion = torch.nn.CrossEntropyLoss()\n",
    "\n",
    "def train():\n",
    "    model.train()\n",
    "\n",
    "    for data in train_loader:  # Iterate in batches over the training dataset.\n",
    "        out = model(data.x, data.edge_index, data.batch)  # Perform a single forward pass.\n",
    "        print(out.shape)\n",
    "        loss = criterion(out, data.y)  # Compute the loss.\n",
    "        loss.backward()  # Derive gradients.\n",
    "        optimizer.step()  # Update parameters based on gradients.\n",
    "        optimizer.zero_grad()  # Clear gradients.\n",
    "\n",
    "def test(loader):\n",
    "    model.eval()\n",
    "\n",
    "    correct = 0\n",
    "    for data in loader:  # Iterate in batches over the training/test dataset.\n",
    "        out = model(data.x, data.edge_index, data.batch)  \n",
    "        pred = out.argmax(dim=1)  # Use the class with highest probability.\n",
    "        correct += int((pred == data.y).sum())  # Check against ground-truth labels.\n",
    "    return correct / len(loader.dataset)  # Derive ratio of correct predictions.\n",
    "\n",
    "\n",
    "for epoch in range(1, 2):\n",
    "    train()\n",
    "    train_acc = test(train_loader)\n",
    "    test_acc = test(test_loader)\n",
    "    print(f'Epoch: {epoch:03d}, Train Acc: {train_acc:.4f}, Test Acc: {test_acc:.4f}')"
   ]
  },
  {
   "cell_type": "code",
   "execution_count": null,
   "id": "medical-prior",
   "metadata": {},
   "outputs": [],
   "source": []
  },
  {
   "cell_type": "code",
   "execution_count": null,
   "id": "impressive-record",
   "metadata": {},
   "outputs": [],
   "source": []
  },
  {
   "cell_type": "code",
   "execution_count": null,
   "id": "electrical-utilization",
   "metadata": {},
   "outputs": [],
   "source": []
  },
  {
   "cell_type": "code",
   "execution_count": null,
   "id": "configured-scottish",
   "metadata": {},
   "outputs": [],
   "source": []
  },
  {
   "cell_type": "code",
   "execution_count": null,
   "id": "characteristic-wesley",
   "metadata": {},
   "outputs": [],
   "source": []
  },
  {
   "cell_type": "code",
   "execution_count": null,
   "id": "brazilian-defense",
   "metadata": {},
   "outputs": [],
   "source": []
  },
  {
   "cell_type": "code",
   "execution_count": null,
   "id": "orange-violation",
   "metadata": {},
   "outputs": [],
   "source": []
  }
 ],
 "metadata": {
  "kernelspec": {
   "display_name": "Python 3",
   "language": "python",
   "name": "python3"
  },
  "language_info": {
   "codemirror_mode": {
    "name": "ipython",
    "version": 3
   },
   "file_extension": ".py",
   "mimetype": "text/x-python",
   "name": "python",
   "nbconvert_exporter": "python",
   "pygments_lexer": "ipython3",
   "version": "3.7.9"
  }
 },
 "nbformat": 4,
 "nbformat_minor": 5
}
