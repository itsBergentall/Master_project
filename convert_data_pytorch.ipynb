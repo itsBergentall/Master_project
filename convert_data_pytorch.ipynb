{
 "cells": [
  {
   "cell_type": "code",
   "execution_count": 68,
   "id": "motivated-tunisia",
   "metadata": {},
   "outputs": [],
   "source": [
    "import torch_geometric.transforms\n",
    "from torch_geometric.nn import knn_graph\n",
    "import torch_geometric.data\n",
    "import torch \n",
    "from torch_geometric.data import Data\n",
    "from torch_geometric.utils import from_networkx\n",
    "import numpy as np\n",
    "import pickle\n",
    "from torch_geometric.data import DataLoader\n",
    "import linecache\n",
    "import random"
   ]
  },
  {
   "cell_type": "code",
   "execution_count": 69,
   "id": "charitable-corporation",
   "metadata": {},
   "outputs": [
    {
     "name": "stdout",
     "output_type": "stream",
     "text": [
      "100\n"
     ]
    }
   ],
   "source": [
    "pickle_in2 = open(\"defect_matrices/dict.eq_distr\",\"rb\")\n",
    "eq_distr = []\n",
    "while 1:\n",
    "    try:\n",
    "        eq_distr.append(pickle.load(pickle_in2))\n",
    "    except EOFError:\n",
    "        break\n",
    "\n",
    "print(len(eq_distr))"
   ]
  },
  {
   "cell_type": "code",
   "execution_count": 70,
   "id": "intensive-columbia",
   "metadata": {},
   "outputs": [],
   "source": [
    "node_feat_load = np.genfromtxt('defect_matrices/node_features.txt')\n",
    "edge_idx_load = np.genfromtxt('defect_matrices/edgelist.txt',usecols=(0,1))\n",
    "edge_feat_load = np.genfromtxt('defect_matrices/edgelist.txt',dtype = float,usecols=3,comments = '}')\n",
    "graph_info = np.genfromtxt('defect_matrices/graph_info.txt')"
   ]
  },
  {
   "cell_type": "code",
   "execution_count": 78,
   "id": "instructional-moderator",
   "metadata": {},
   "outputs": [],
   "source": [
    "graphs = []\n",
    "\n",
    "holder=0\n",
    "edge_holder =0\n",
    "for ix in range(len(graph_info)):\n",
    "    num_nodes = int(graph_info[ix])\n",
    "    edge_amount = int(num_nodes*(num_nodes-1))\n",
    "    \n",
    "    node_feat = node_feat_load[holder:holder+num_nodes]\n",
    "    edge_idx = edge_idx_load[edge_holder:edge_amount+edge_holder]\n",
    "    edge_feat = edge_feat_load[edge_holder:edge_amount+edge_holder]\n",
    "    \n",
    "    node_features = torch.from_numpy(node_feat)\n",
    "    edge_features = torch.from_numpy(edge_feat)\n",
    "    \n",
    "    edge_index = torch.from_numpy(np.transpose(edge_idx)).type(torch.LongTensor)\n",
    "    #edge_index = torch_geometric.utils.to_undirected(edge_index)\n",
    "    \n",
    "    #print(node_features)\n",
    "    #print(edge_index)\n",
    "    #print(edge_features.shape)\n",
    "    \n",
    "    eq_class = np.array(np.around(eq_distr[ix]*0.01))\n",
    "    eq_class = torch.from_numpy(eq_class)\n",
    "\n",
    "    graph = Data(node_features,edge_index,edge_features,y=eq_class)\n",
    "    #print(graph)\n",
    "    graphs.append(graph)\n",
    "    \n",
    "    holder = holder + num_nodes\n",
    "    edge_holder = edge_holder + edge_amount\n",
    "\n",
    "\n",
    "    \n",
    "\n",
    "torch.save(graphs,'defect_matrices/torch_test.pt')  \n"
   ]
  },
  {
   "cell_type": "code",
   "execution_count": 82,
   "id": "activated-slovak",
   "metadata": {},
   "outputs": [
    {
     "name": "stdout",
     "output_type": "stream",
     "text": [
      "tensor([[0, 0, 0, 0, 1, 1, 1, 1, 2, 2, 2, 2, 3, 3, 3, 3, 4, 4, 4, 4],\n",
      "        [1, 2, 3, 4, 0, 2, 3, 4, 0, 1, 3, 4, 0, 1, 2, 4, 0, 1, 2, 3]])\n"
     ]
    }
   ],
   "source": []
  },
  {
   "cell_type": "code",
   "execution_count": 5,
   "id": "regulation-darkness",
   "metadata": {},
   "outputs": [],
   "source": [
    "    eq_class = np.array(eq_distr[1])\n",
    "    eq_class = torch.from_numpy(eq_class)"
   ]
  },
  {
   "cell_type": "code",
   "execution_count": 7,
   "id": "another-latest",
   "metadata": {},
   "outputs": [
    {
     "name": "stdout",
     "output_type": "stream",
     "text": [
      "tensor([1., 0., 0., 0.], dtype=torch.float64)\n"
     ]
    }
   ],
   "source": [
    "print(np.around(eq_class*0.01))"
   ]
  },
  {
   "cell_type": "code",
   "execution_count": 79,
   "id": "stainless-embassy",
   "metadata": {},
   "outputs": [],
   "source": [
    "dataset = torch.load('defect_matrices/torch_test.pt')\n"
   ]
  },
  {
   "cell_type": "code",
   "execution_count": 80,
   "id": "structured-edgar",
   "metadata": {},
   "outputs": [
    {
     "name": "stdout",
     "output_type": "stream",
     "text": [
      "Number of graphs: 98\n",
      "\n",
      "First graph attributes:\n",
      "Data(edge_attr=[72], edge_index=[2, 72], x=[9, 2], y=[4])\n",
      "=============================================================\n",
      "Number of nodes: 9\n",
      "Number of edges: 72\n",
      "Average node degree: 8.00\n"
     ]
    }
   ],
   "source": [
    "\n",
    "#print()\n",
    "#print(f'Dataset: {dataset}:')\n",
    "#print('====================')\n",
    "print(f'Number of graphs: {len(dataset)}')\n",
    "print()\n",
    "#print(f'Number of features: {dataset.num_features}')\n",
    "#print(f'Number of classes: {dataset.num_classes}')\n",
    "print(f'First graph attributes:')\n",
    "data = dataset[0]  # Get the first graph object.\n",
    "#print()\n",
    "print(data)\n",
    "print('=============================================================')\n",
    "\n",
    "# Gather some statistics about the first graph.\n",
    "print(f'Number of nodes: {data.num_nodes}')\n",
    "print(f'Number of edges: {data.num_edges}')\n",
    "print(f'Average node degree: {data.num_edges / data.num_nodes:.2f}')\n"
   ]
  },
  {
   "cell_type": "code",
   "execution_count": 196,
   "id": "sharp-economics",
   "metadata": {},
   "outputs": [
    {
     "name": "stdout",
     "output_type": "stream",
     "text": [
      "Number of training graphs: 8\n",
      "Number of test graphs: 2\n"
     ]
    }
   ],
   "source": [
    "torch.manual_seed(1234)\n",
    "#dataset = dataset.shuffle()\n",
    "random.shuffle(dataset)\n",
    "\n",
    "train_dataset = dataset[:8]\n",
    "test_dataset = dataset[8:]\n",
    "\n",
    "print(f'Number of training graphs: {len(train_dataset)}')\n",
    "print(f'Number of test graphs: {len(test_dataset)}')\n",
    "\n"
   ]
  },
  {
   "cell_type": "code",
   "execution_count": 198,
   "id": "forbidden-locking",
   "metadata": {},
   "outputs": [
    {
     "name": "stdout",
     "output_type": "stream",
     "text": [
      "Step 1:\n",
      "=======\n",
      "Number of graphs in the current batch: 4\n",
      "Batch(batch=[41], edge_attr=[216], edge_index=[2, 216], x=[41, 2], y=[16])\n",
      "\n",
      "Step 2:\n",
      "=======\n",
      "Number of graphs in the current batch: 4\n",
      "Batch(batch=[27], edge_attr=[81], edge_index=[2, 81], x=[27, 2], y=[16])\n",
      "\n"
     ]
    }
   ],
   "source": [
    "from torch_geometric.data import DataLoader\n",
    "\n",
    "train_loader = DataLoader(train_dataset, batch_size=4, shuffle=True)\n",
    "test_loader = DataLoader(test_dataset, batch_size=2, shuffle=False)\n",
    "\n",
    "for step, data in enumerate(train_loader):\n",
    "    print(f'Step {step + 1}:')\n",
    "    print('=======')\n",
    "    print(f'Number of graphs in the current batch: {data.num_graphs}')\n",
    "    print(data)\n",
    "    print()"
   ]
  },
  {
   "cell_type": "code",
   "execution_count": 240,
   "id": "selective-instruction",
   "metadata": {},
   "outputs": [
    {
     "ename": "NameError",
     "evalue": "name 'batch' is not defined",
     "output_type": "error",
     "traceback": [
      "\u001b[0;31m---------------------------------------------------------------------------\u001b[0m",
      "\u001b[0;31mNameError\u001b[0m                                 Traceback (most recent call last)",
      "\u001b[0;32m<ipython-input-240-0ce79da413e4>\u001b[0m in \u001b[0;36m<module>\u001b[0;34m\u001b[0m\n\u001b[0;32m----> 1\u001b[0;31m \u001b[0mprint\u001b[0m\u001b[0;34m(\u001b[0m\u001b[0mbatch\u001b[0m\u001b[0;34m)\u001b[0m\u001b[0;34m\u001b[0m\u001b[0;34m\u001b[0m\u001b[0m\n\u001b[0m",
      "\u001b[0;31mNameError\u001b[0m: name 'batch' is not defined"
     ]
    }
   ],
   "source": [
    "print(batch)"
   ]
  },
  {
   "cell_type": "code",
   "execution_count": 300,
   "id": "sweet-charles",
   "metadata": {},
   "outputs": [
    {
     "name": "stdout",
     "output_type": "stream",
     "text": [
      "GCN(\n",
      "  (conv1): GCNConv(7, 64)\n",
      "  (conv2): GCNConv(64, 64)\n",
      "  (conv3): GCNConv(64, 64)\n",
      "  (lin): Linear(in_features=64, out_features=2, bias=True)\n",
      ")\n"
     ]
    }
   ],
   "source": [
    "from torch.nn import Linear\n",
    "from torch.nn import Softmax\n",
    "\n",
    "import torch.nn.functional as F\n",
    "from torch_geometric.nn import GCNConv\n",
    "from torch_geometric.nn import global_mean_pool\n",
    "\n",
    "\n",
    "class GCN(torch.nn.Module):\n",
    "    def __init__(self, hidden_channels):\n",
    "        super(GCN, self).__init__()\n",
    "        torch.manual_seed(12345)\n",
    "        self.conv1 = GCNConv(dataset.num_node_features, hidden_channels)\n",
    "        self.conv2 = GCNConv(hidden_channels, hidden_channels)\n",
    "        self.conv3 = GCNConv(hidden_channels, hidden_channels)\n",
    "        self.lin = Linear(hidden_channels, dataset.num_classes)\n",
    "\n",
    "    def forward(self, x, edge_index, batch):\n",
    "        # 1. Obtain node embeddings \n",
    "        print(dataset.num_features)\n",
    "        \n",
    "        x = self.conv1(x, edge_index)\n",
    "        x = x.relu()\n",
    "        x = self.conv2(x, edge_index)\n",
    "        x = x.relu()\n",
    "        x = self.conv3(x, edge_index)\n",
    "\n",
    "        # 2. Readout layer\n",
    "        x = global_mean_pool(x, batch)  # [batch_size, hidden_channels]\n",
    "\n",
    "        # 3. Apply a final classifier\n",
    "        x = F.dropout(x, p=0.5, training=self.training)\n",
    "        print(x.shape)\n",
    "        x = self.lin(x)\n",
    "        \n",
    "        return x\n",
    "\n",
    "model = GCN(hidden_channels=64)\n",
    "print(model)\n",
    "    \n"
   ]
  },
  {
   "cell_type": "code",
   "execution_count": 263,
   "id": "important-client",
   "metadata": {},
   "outputs": [
    {
     "name": "stdout",
     "output_type": "stream",
     "text": [
      "torch.Size([5, 10])\n",
      "tensor([3, 1, 0, 1, 0])\n"
     ]
    }
   ],
   "source": [
    "output = torch.randn(5,10)\n",
    "target = torch.randint(0,4,(5,))\n",
    "\n",
    "print(output.shape)\n",
    "print(target)\n"
   ]
  },
  {
   "cell_type": "code",
   "execution_count": 296,
   "id": "connected-zambia",
   "metadata": {},
   "outputs": [
    {
     "name": "stdout",
     "output_type": "stream",
     "text": [
      "torch.Size([17, 2])\n",
      "tensor([1])\n"
     ]
    }
   ],
   "source": [
    "print(out.shape)\n",
    "print(data.y)"
   ]
  },
  {
   "cell_type": "code",
   "execution_count": 301,
   "id": "guided-possession",
   "metadata": {},
   "outputs": [
    {
     "name": "stdout",
     "output_type": "stream",
     "text": [
      "7\n",
      "torch.Size([64, 64])\n",
      "torch.Size([64, 2])\n",
      "7\n",
      "torch.Size([64, 64])\n",
      "torch.Size([64, 2])\n",
      "7\n",
      "torch.Size([22, 64])\n",
      "torch.Size([22, 2])\n",
      "7\n",
      "torch.Size([64, 64])\n",
      "7\n",
      "torch.Size([64, 64])\n",
      "7\n",
      "torch.Size([22, 64])\n",
      "7\n",
      "torch.Size([38, 64])\n",
      "Epoch: 001, Train Acc: 0.6467, Test Acc: 0.7368\n"
     ]
    }
   ],
   "source": [
    "model = GCN(hidden_channels=64)\n",
    "optimizer = torch.optim.Adam(model.parameters(), lr=0.01)\n",
    "criterion = torch.nn.CrossEntropyLoss()\n",
    "\n",
    "def train():\n",
    "    model.train()\n",
    "\n",
    "    for data in train_loader:  # Iterate in batches over the training dataset.\n",
    "        out = model(data.x, data.edge_index, data.batch)  # Perform a single forward pass.\n",
    "        print(out.shape)\n",
    "        loss = criterion(out, data.y)  # Compute the loss.\n",
    "        loss.backward()  # Derive gradients.\n",
    "        optimizer.step()  # Update parameters based on gradients.\n",
    "        optimizer.zero_grad()  # Clear gradients.\n",
    "\n",
    "def test(loader):\n",
    "    model.eval()\n",
    "\n",
    "    correct = 0\n",
    "    for data in loader:  # Iterate in batches over the training/test dataset.\n",
    "        out = model(data.x, data.edge_index, data.batch)  \n",
    "        pred = out.argmax(dim=1)  # Use the class with highest probability.\n",
    "        correct += int((pred == data.y).sum())  # Check against ground-truth labels.\n",
    "    return correct / len(loader.dataset)  # Derive ratio of correct predictions.\n",
    "\n",
    "\n",
    "for epoch in range(1, 2):\n",
    "    train()\n",
    "    train_acc = test(train_loader)\n",
    "    test_acc = test(test_loader)\n",
    "    print(f'Epoch: {epoch:03d}, Train Acc: {train_acc:.4f}, Test Acc: {test_acc:.4f}')"
   ]
  },
  {
   "cell_type": "code",
   "execution_count": 302,
   "id": "medical-prior",
   "metadata": {},
   "outputs": [
    {
     "name": "stdout",
     "output_type": "stream",
     "text": [
      "\n",
      "Dataset: MUTAG(188):\n",
      "====================\n",
      "Number of graphs: 188\n",
      "Number of features: 7\n",
      "Number of classes: 2\n",
      "\n",
      "Data(edge_attr=[38, 4], edge_index=[2, 38], x=[17, 7], y=[1])\n",
      "=============================================================\n",
      "Number of nodes: 17\n",
      "Number of edges: 38\n",
      "Average node degree: 2.24\n",
      "Contains isolated nodes: False\n",
      "Contains self-loops: False\n",
      "Is undirected: True\n"
     ]
    }
   ],
   "source": [
    "from torch_geometric.datasets import TUDataset\n",
    "\n",
    "dataset = TUDataset(root='data/TUDataset', name='MUTAG')\n",
    "\n",
    "print()\n",
    "print(f'Dataset: {dataset}:')\n",
    "print('====================')\n",
    "print(f'Number of graphs: {len(dataset)}')\n",
    "print(f'Number of features: {dataset.num_features}')\n",
    "print(f'Number of classes: {dataset.num_classes}')\n",
    "\n",
    "data = dataset[0]  # Get the first graph object.\n",
    "\n",
    "print()\n",
    "print(data)\n",
    "print('=============================================================')\n",
    "\n",
    "# Gather some statistics about the first graph.\n",
    "print(f'Number of nodes: {data.num_nodes}')\n",
    "print(f'Number of edges: {data.num_edges}')\n",
    "print(f'Average node degree: {data.num_edges / data.num_nodes:.2f}')\n",
    "print(f'Contains isolated nodes: {data.contains_isolated_nodes()}')\n",
    "print(f'Contains self-loops: {data.contains_self_loops()}')\n",
    "print(f'Is undirected: {data.is_undirected()}')"
   ]
  },
  {
   "cell_type": "code",
   "execution_count": 291,
   "id": "impressive-record",
   "metadata": {},
   "outputs": [
    {
     "name": "stdout",
     "output_type": "stream",
     "text": [
      "Number of training graphs: 150\n",
      "Number of test graphs: 38\n"
     ]
    }
   ],
   "source": [
    "torch.manual_seed(12345)\n",
    "dataset = dataset.shuffle()\n",
    "\n",
    "train_dataset = dataset[:150]\n",
    "test_dataset = dataset[150:]\n",
    "\n",
    "print(f'Number of training graphs: {len(train_dataset)}')\n",
    "print(f'Number of test graphs: {len(test_dataset)}')\n",
    "\n",
    "\n",
    "\n",
    "train_loader = DataLoader(train_dataset, batch_size=64, shuffle=True)\n",
    "test_loader = DataLoader(test_dataset, batch_size=64, shuffle=False)\n"
   ]
  },
  {
   "cell_type": "code",
   "execution_count": 304,
   "id": "electrical-utilization",
   "metadata": {},
   "outputs": [
    {
     "ename": "NameError",
     "evalue": "name 'y' is not defined",
     "output_type": "error",
     "traceback": [
      "\u001b[0;31m---------------------------------------------------------------------------\u001b[0m",
      "\u001b[0;31mNameError\u001b[0m                                 Traceback (most recent call last)",
      "\u001b[0;32m<ipython-input-304-d9183e048de3>\u001b[0m in \u001b[0;36m<module>\u001b[0;34m\u001b[0m\n\u001b[0;32m----> 1\u001b[0;31m \u001b[0mprint\u001b[0m\u001b[0;34m(\u001b[0m\u001b[0my\u001b[0m\u001b[0;34m)\u001b[0m\u001b[0;34m\u001b[0m\u001b[0;34m\u001b[0m\u001b[0m\n\u001b[0m",
      "\u001b[0;31mNameError\u001b[0m: name 'y' is not defined"
     ]
    }
   ],
   "source": [
    "print()"
   ]
  },
  {
   "cell_type": "code",
   "execution_count": 289,
   "id": "configured-scottish",
   "metadata": {},
   "outputs": [
    {
     "name": "stdout",
     "output_type": "stream",
     "text": [
      "Step 1:\n",
      "=======\n",
      "Number of graphs in the current batch: 4\n",
      "Batch(batch=[70], edge_attr=[152, 4], edge_index=[2, 152], x=[70, 7], y=[4])\n",
      "\n",
      "Step 2:\n",
      "=======\n",
      "Number of graphs in the current batch: 4\n",
      "Batch(batch=[83], edge_attr=[190, 4], edge_index=[2, 190], x=[83, 7], y=[4])\n",
      "\n",
      "Step 3:\n",
      "=======\n",
      "Number of graphs in the current batch: 4\n",
      "Batch(batch=[88], edge_attr=[194, 4], edge_index=[2, 194], x=[88, 7], y=[4])\n",
      "\n",
      "Step 4:\n",
      "=======\n",
      "Number of graphs in the current batch: 4\n",
      "Batch(batch=[59], edge_attr=[124, 4], edge_index=[2, 124], x=[59, 7], y=[4])\n",
      "\n",
      "Step 5:\n",
      "=======\n",
      "Number of graphs in the current batch: 4\n",
      "Batch(batch=[89], edge_attr=[196, 4], edge_index=[2, 196], x=[89, 7], y=[4])\n",
      "\n",
      "Step 6:\n",
      "=======\n",
      "Number of graphs in the current batch: 4\n",
      "Batch(batch=[66], edge_attr=[146, 4], edge_index=[2, 146], x=[66, 7], y=[4])\n",
      "\n",
      "Step 7:\n",
      "=======\n",
      "Number of graphs in the current batch: 4\n",
      "Batch(batch=[88], edge_attr=[202, 4], edge_index=[2, 202], x=[88, 7], y=[4])\n",
      "\n",
      "Step 8:\n",
      "=======\n",
      "Number of graphs in the current batch: 4\n",
      "Batch(batch=[58], edge_attr=[124, 4], edge_index=[2, 124], x=[58, 7], y=[4])\n",
      "\n",
      "Step 9:\n",
      "=======\n",
      "Number of graphs in the current batch: 4\n",
      "Batch(batch=[85], edge_attr=[190, 4], edge_index=[2, 190], x=[85, 7], y=[4])\n",
      "\n",
      "Step 10:\n",
      "=======\n",
      "Number of graphs in the current batch: 4\n",
      "Batch(batch=[65], edge_attr=[146, 4], edge_index=[2, 146], x=[65, 7], y=[4])\n",
      "\n",
      "Step 11:\n",
      "=======\n",
      "Number of graphs in the current batch: 4\n",
      "Batch(batch=[64], edge_attr=[138, 4], edge_index=[2, 138], x=[64, 7], y=[4])\n",
      "\n",
      "Step 12:\n",
      "=======\n",
      "Number of graphs in the current batch: 4\n",
      "Batch(batch=[65], edge_attr=[144, 4], edge_index=[2, 144], x=[65, 7], y=[4])\n",
      "\n",
      "Step 13:\n",
      "=======\n",
      "Number of graphs in the current batch: 4\n",
      "Batch(batch=[62], edge_attr=[132, 4], edge_index=[2, 132], x=[62, 7], y=[4])\n",
      "\n",
      "Step 14:\n",
      "=======\n",
      "Number of graphs in the current batch: 4\n",
      "Batch(batch=[66], edge_attr=[142, 4], edge_index=[2, 142], x=[66, 7], y=[4])\n",
      "\n",
      "Step 15:\n",
      "=======\n",
      "Number of graphs in the current batch: 4\n",
      "Batch(batch=[60], edge_attr=[132, 4], edge_index=[2, 132], x=[60, 7], y=[4])\n",
      "\n",
      "Step 16:\n",
      "=======\n",
      "Number of graphs in the current batch: 4\n",
      "Batch(batch=[76], edge_attr=[172, 4], edge_index=[2, 172], x=[76, 7], y=[4])\n",
      "\n",
      "Step 17:\n",
      "=======\n",
      "Number of graphs in the current batch: 4\n",
      "Batch(batch=[80], edge_attr=[184, 4], edge_index=[2, 184], x=[80, 7], y=[4])\n",
      "\n",
      "Step 18:\n",
      "=======\n",
      "Number of graphs in the current batch: 4\n",
      "Batch(batch=[72], edge_attr=[154, 4], edge_index=[2, 154], x=[72, 7], y=[4])\n",
      "\n",
      "Step 19:\n",
      "=======\n",
      "Number of graphs in the current batch: 4\n",
      "Batch(batch=[81], edge_attr=[178, 4], edge_index=[2, 178], x=[81, 7], y=[4])\n",
      "\n",
      "Step 20:\n",
      "=======\n",
      "Number of graphs in the current batch: 4\n",
      "Batch(batch=[68], edge_attr=[148, 4], edge_index=[2, 148], x=[68, 7], y=[4])\n",
      "\n",
      "Step 21:\n",
      "=======\n",
      "Number of graphs in the current batch: 4\n",
      "Batch(batch=[77], edge_attr=[176, 4], edge_index=[2, 176], x=[77, 7], y=[4])\n",
      "\n",
      "Step 22:\n",
      "=======\n",
      "Number of graphs in the current batch: 4\n",
      "Batch(batch=[66], edge_attr=[140, 4], edge_index=[2, 140], x=[66, 7], y=[4])\n",
      "\n",
      "Step 23:\n",
      "=======\n",
      "Number of graphs in the current batch: 4\n",
      "Batch(batch=[88], edge_attr=[202, 4], edge_index=[2, 202], x=[88, 7], y=[4])\n",
      "\n",
      "Step 24:\n",
      "=======\n",
      "Number of graphs in the current batch: 4\n",
      "Batch(batch=[63], edge_attr=[140, 4], edge_index=[2, 140], x=[63, 7], y=[4])\n",
      "\n",
      "Step 25:\n",
      "=======\n",
      "Number of graphs in the current batch: 4\n",
      "Batch(batch=[85], edge_attr=[188, 4], edge_index=[2, 188], x=[85, 7], y=[4])\n",
      "\n",
      "Step 26:\n",
      "=======\n",
      "Number of graphs in the current batch: 4\n",
      "Batch(batch=[72], edge_attr=[154, 4], edge_index=[2, 154], x=[72, 7], y=[4])\n",
      "\n",
      "Step 27:\n",
      "=======\n",
      "Number of graphs in the current batch: 4\n",
      "Batch(batch=[77], edge_attr=[172, 4], edge_index=[2, 172], x=[77, 7], y=[4])\n",
      "\n",
      "Step 28:\n",
      "=======\n",
      "Number of graphs in the current batch: 4\n",
      "Batch(batch=[62], edge_attr=[136, 4], edge_index=[2, 136], x=[62, 7], y=[4])\n",
      "\n",
      "Step 29:\n",
      "=======\n",
      "Number of graphs in the current batch: 4\n",
      "Batch(batch=[58], edge_attr=[126, 4], edge_index=[2, 126], x=[58, 7], y=[4])\n",
      "\n",
      "Step 30:\n",
      "=======\n",
      "Number of graphs in the current batch: 4\n",
      "Batch(batch=[84], edge_attr=[184, 4], edge_index=[2, 184], x=[84, 7], y=[4])\n",
      "\n",
      "Step 31:\n",
      "=======\n",
      "Number of graphs in the current batch: 4\n",
      "Batch(batch=[79], edge_attr=[178, 4], edge_index=[2, 178], x=[79, 7], y=[4])\n",
      "\n",
      "Step 32:\n",
      "=======\n",
      "Number of graphs in the current batch: 4\n",
      "Batch(batch=[71], edge_attr=[160, 4], edge_index=[2, 160], x=[71, 7], y=[4])\n",
      "\n",
      "Step 33:\n",
      "=======\n",
      "Number of graphs in the current batch: 4\n",
      "Batch(batch=[76], edge_attr=[170, 4], edge_index=[2, 170], x=[76, 7], y=[4])\n",
      "\n",
      "Step 34:\n",
      "=======\n",
      "Number of graphs in the current batch: 4\n",
      "Batch(batch=[61], edge_attr=[130, 4], edge_index=[2, 130], x=[61, 7], y=[4])\n",
      "\n",
      "Step 35:\n",
      "=======\n",
      "Number of graphs in the current batch: 4\n",
      "Batch(batch=[69], edge_attr=[150, 4], edge_index=[2, 150], x=[69, 7], y=[4])\n",
      "\n",
      "Step 36:\n",
      "=======\n",
      "Number of graphs in the current batch: 4\n",
      "Batch(batch=[82], edge_attr=[180, 4], edge_index=[2, 180], x=[82, 7], y=[4])\n",
      "\n",
      "Step 37:\n",
      "=======\n",
      "Number of graphs in the current batch: 4\n",
      "Batch(batch=[67], edge_attr=[148, 4], edge_index=[2, 148], x=[67, 7], y=[4])\n",
      "\n",
      "Step 38:\n",
      "=======\n",
      "Number of graphs in the current batch: 2\n",
      "Batch(batch=[32], edge_attr=[72, 4], edge_index=[2, 72], x=[32, 7], y=[2])\n",
      "\n"
     ]
    }
   ],
   "source": [
    "from torch_geometric.data import DataLoader\n",
    "\n",
    "train_loader = DataLoader(train_dataset, batch_size=4, shuffle=True)\n",
    "test_loader = DataLoader(test_dataset, batch_size=2, shuffle=False)\n",
    "\n",
    "for step, data in enumerate(train_loader):\n",
    "    print(f'Step {step + 1}:')\n",
    "    print('=======')\n",
    "    print(f'Number of graphs in the current batch: {data.num_graphs}')\n",
    "    print(data)\n",
    "    print()"
   ]
  },
  {
   "cell_type": "code",
   "execution_count": 287,
   "id": "characteristic-wesley",
   "metadata": {},
   "outputs": [],
   "source": [
    "import torch\n",
    "import torch.nn.functional as F\n",
    "from torch_geometric.nn import GCNConv\n",
    "\n",
    "class Net(torch.nn.Module):\n",
    "    def __init__(self):\n",
    "        super(Net, self).__init__()\n",
    "        self.conv1 = GCNConv(dataset.num_node_features, 16)\n",
    "        self.conv2 = GCNConv(16, dataset.num_classes)\n",
    "\n",
    "    def forward(self, data):\n",
    "        x, edge_index = data.x, data.edge_index\n",
    "\n",
    "        x = self.conv1(x, edge_index)\n",
    "        x = F.relu(x)\n",
    "        x = F.dropout(x, training=self.training)\n",
    "        x = self.conv2(x, edge_index)\n",
    "\n",
    "        return F.log_softmax(x, dim=1)"
   ]
  },
  {
   "cell_type": "code",
   "execution_count": 288,
   "id": "brazilian-defense",
   "metadata": {},
   "outputs": [
    {
     "ename": "ValueError",
     "evalue": "Expected input batch_size (17) to match target batch_size (1).",
     "output_type": "error",
     "traceback": [
      "\u001b[0;31m---------------------------------------------------------------------------\u001b[0m",
      "\u001b[0;31mValueError\u001b[0m                                Traceback (most recent call last)",
      "\u001b[0;32m<ipython-input-288-a91116aef5f1>\u001b[0m in \u001b[0;36m<module>\u001b[0;34m\u001b[0m\n\u001b[1;32m      8\u001b[0m     \u001b[0moptimizer\u001b[0m\u001b[0;34m.\u001b[0m\u001b[0mzero_grad\u001b[0m\u001b[0;34m(\u001b[0m\u001b[0;34m)\u001b[0m\u001b[0;34m\u001b[0m\u001b[0;34m\u001b[0m\u001b[0m\n\u001b[1;32m      9\u001b[0m     \u001b[0mout\u001b[0m \u001b[0;34m=\u001b[0m \u001b[0mmodel\u001b[0m\u001b[0;34m(\u001b[0m\u001b[0mdata\u001b[0m\u001b[0;34m)\u001b[0m\u001b[0;34m\u001b[0m\u001b[0;34m\u001b[0m\u001b[0m\n\u001b[0;32m---> 10\u001b[0;31m     \u001b[0mloss\u001b[0m \u001b[0;34m=\u001b[0m \u001b[0mF\u001b[0m\u001b[0;34m.\u001b[0m\u001b[0mnll_loss\u001b[0m\u001b[0;34m(\u001b[0m\u001b[0mout\u001b[0m\u001b[0;34m,\u001b[0m \u001b[0mdata\u001b[0m\u001b[0;34m.\u001b[0m\u001b[0my\u001b[0m\u001b[0;34m)\u001b[0m\u001b[0;34m\u001b[0m\u001b[0;34m\u001b[0m\u001b[0m\n\u001b[0m\u001b[1;32m     11\u001b[0m     \u001b[0mloss\u001b[0m\u001b[0;34m.\u001b[0m\u001b[0mbackward\u001b[0m\u001b[0;34m(\u001b[0m\u001b[0;34m)\u001b[0m\u001b[0;34m\u001b[0m\u001b[0;34m\u001b[0m\u001b[0m\n\u001b[1;32m     12\u001b[0m     \u001b[0moptimizer\u001b[0m\u001b[0;34m.\u001b[0m\u001b[0mstep\u001b[0m\u001b[0;34m(\u001b[0m\u001b[0;34m)\u001b[0m\u001b[0;34m\u001b[0m\u001b[0;34m\u001b[0m\u001b[0m\n",
      "\u001b[0;32m~/[/home/desktop/anaconda3]/envs/master_env/lib/python3.7/site-packages/torch/nn/functional.py\u001b[0m in \u001b[0;36mnll_loss\u001b[0;34m(input, target, weight, size_average, ignore_index, reduce, reduction)\u001b[0m\n\u001b[1;32m   2260\u001b[0m     \u001b[0;32mif\u001b[0m \u001b[0minput\u001b[0m\u001b[0;34m.\u001b[0m\u001b[0msize\u001b[0m\u001b[0;34m(\u001b[0m\u001b[0;36m0\u001b[0m\u001b[0;34m)\u001b[0m \u001b[0;34m!=\u001b[0m \u001b[0mtarget\u001b[0m\u001b[0;34m.\u001b[0m\u001b[0msize\u001b[0m\u001b[0;34m(\u001b[0m\u001b[0;36m0\u001b[0m\u001b[0;34m)\u001b[0m\u001b[0;34m:\u001b[0m\u001b[0;34m\u001b[0m\u001b[0;34m\u001b[0m\u001b[0m\n\u001b[1;32m   2261\u001b[0m         raise ValueError('Expected input batch_size ({}) to match target batch_size ({}).'\n\u001b[0;32m-> 2262\u001b[0;31m                          .format(input.size(0), target.size(0)))\n\u001b[0m\u001b[1;32m   2263\u001b[0m     \u001b[0;32mif\u001b[0m \u001b[0mdim\u001b[0m \u001b[0;34m==\u001b[0m \u001b[0;36m2\u001b[0m\u001b[0;34m:\u001b[0m\u001b[0;34m\u001b[0m\u001b[0;34m\u001b[0m\u001b[0m\n\u001b[1;32m   2264\u001b[0m         \u001b[0mret\u001b[0m \u001b[0;34m=\u001b[0m \u001b[0mtorch\u001b[0m\u001b[0;34m.\u001b[0m\u001b[0m_C\u001b[0m\u001b[0;34m.\u001b[0m\u001b[0m_nn\u001b[0m\u001b[0;34m.\u001b[0m\u001b[0mnll_loss\u001b[0m\u001b[0;34m(\u001b[0m\u001b[0minput\u001b[0m\u001b[0;34m,\u001b[0m \u001b[0mtarget\u001b[0m\u001b[0;34m,\u001b[0m \u001b[0mweight\u001b[0m\u001b[0;34m,\u001b[0m \u001b[0m_Reduction\u001b[0m\u001b[0;34m.\u001b[0m\u001b[0mget_enum\u001b[0m\u001b[0;34m(\u001b[0m\u001b[0mreduction\u001b[0m\u001b[0;34m)\u001b[0m\u001b[0;34m,\u001b[0m \u001b[0mignore_index\u001b[0m\u001b[0;34m)\u001b[0m\u001b[0;34m\u001b[0m\u001b[0;34m\u001b[0m\u001b[0m\n",
      "\u001b[0;31mValueError\u001b[0m: Expected input batch_size (17) to match target batch_size (1)."
     ]
    }
   ],
   "source": [
    "device = torch.device('cuda' if torch.cuda.is_available() else 'cpu')\n",
    "model = Net().to(device)\n",
    "data = dataset[0].to(device)\n",
    "optimizer = torch.optim.Adam(model.parameters(), lr=0.01, weight_decay=5e-4)\n",
    "\n",
    "model.train()\n",
    "for epoch in range(200):\n",
    "    optimizer.zero_grad()\n",
    "    out = model(data)\n",
    "    loss = F.nll_loss(out, data.y)\n",
    "    loss.backward()\n",
    "    optimizer.step()"
   ]
  },
  {
   "cell_type": "code",
   "execution_count": null,
   "id": "orange-violation",
   "metadata": {},
   "outputs": [],
   "source": []
  }
 ],
 "metadata": {
  "kernelspec": {
   "display_name": "Python 3",
   "language": "python",
   "name": "python3"
  },
  "language_info": {
   "codemirror_mode": {
    "name": "ipython",
    "version": 3
   },
   "file_extension": ".py",
   "mimetype": "text/x-python",
   "name": "python",
   "nbconvert_exporter": "python",
   "pygments_lexer": "ipython3",
   "version": "3.7.9"
  }
 },
 "nbformat": 4,
 "nbformat_minor": 5
}
